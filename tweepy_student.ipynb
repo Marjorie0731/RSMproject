{
 "cells": [
  {
   "cell_type": "markdown",
   "metadata": {},
   "source": [
    "# Setup and install necessary packages [do not change]"
   ]
  },
  {
   "cell_type": "code",
   "execution_count": 2,
   "metadata": {},
   "outputs": [],
   "source": [
    "# Please make sure to install the package Tweepy by accessing\n",
    "# Anaconda prompt (see webclips), and then typing\n",
    "#     \n",
    "#   pip install tweepy\n",
    "#\n",
    "\n",
    "# First, we need to install some packages to access the Twitter API\n",
    "import tweepy\n",
    "from tweepy.auth import OAuthHandler\n",
    "from tweepy import Stream\n",
    "from tweepy.streaming import StreamListener\n",
    "\n",
    "# This part is responsible of getting the data, and printing the data.\n",
    "# It's a basic listener, writing tweets to the output file (filename).\n",
    "class StdOutListener(StreamListener):\n",
    "    def on_data(self, data):\n",
    "        #print data\n",
    "        with open(filename,'a') as tf:\n",
    "            tf.write(data)\n",
    "        return True\n",
    "\n",
    "    def on_error(self, status):\n",
    "        print(status)\n",
    "\n",
    "l = StdOutListener()"
   ]
  },
  {
   "cell_type": "markdown",
   "metadata": {},
   "source": [
    "If you see the error message \"no module named 'tweepy'\", please install the tweepy package first by typing \n",
    "\n",
    "```\n",
    "pip install -U tweepy\n",
    "```\n",
    "\n",
    "Mac users open a new terminal window and type it there. Windows users open Anaconda prompt and type in the command from above."
   ]
  },
  {
   "cell_type": "markdown",
   "metadata": {},
   "source": [
    "# Insert credentials, hashtags, and filename here"
   ]
  },
  {
   "cell_type": "code",
   "execution_count": 3,
   "metadata": {},
   "outputs": [],
   "source": [
    "# Please add your Twitter API user credentials here. \n",
    "# One of your team members needs to have such an access account;\n",
    "# register a new \"App\" under your Twitter account, and put the necessary\n",
    "# identification details below.\n",
    "# For instructions on how to do that, check out the relevant web clip.\n",
    "# \n",
    "# \n",
    "\n",
    "access_token = \"xxx\"\n",
    "access_token_secret = \"xxx\"\n",
    "api_key = \"xxx\"\n",
    "api_secret_key = \"xxx\"\n",
    "\n",
    "# Define a list of trackable hash tags or character strings\n",
    "# that you would like to get data on.\n",
    "\n",
    "tracking = ['#quarantine'] # tracking multiple keywords/hashtags\n",
    "#tracking = ['#technology'] # tracking only one keyword - remove the # in front of this line to activate it\n",
    "\n",
    "# Define file in which to write the Tweets (will be saved to the directory in which this code file is located)\n",
    "filename = 'collected_tweets.json'"
   ]
  },
  {
   "cell_type": "markdown",
   "metadata": {},
   "source": [
    "# Start your data collection"
   ]
  },
  {
   "cell_type": "code",
   "execution_count": null,
   "metadata": {},
   "outputs": [
    {
     "name": "stdout",
     "output_type": "stream",
     "text": [
      "Writing to...collected_tweets.json\n",
      "Error in data collection; check internet connection and API retrieval limit. If this error persists, please restart Jupyter Notebook.\n"
     ]
    }
   ],
   "source": [
    "print('Writing to...' + filename)\n",
    "\n",
    "while True:\n",
    "    try:\n",
    "        auth = OAuthHandler(api_key, api_secret_key)\n",
    "        auth.set_access_token(access_token, access_token_secret)\n",
    "        stream = Stream(auth, l)\n",
    "        stream.filter(track=tracking)\n",
    "    except:\n",
    "        print('Error in data collection; check internet connection and API retrieval limit. If this error persists, please restart Jupyter Notebook.')"
   ]
  },
  {
   "cell_type": "markdown",
   "metadata": {},
   "source": [
    "Click on the kernel - restart & clear output menu item to finish the collection."
   ]
  }
 ],
 "metadata": {
  "kernelspec": {
   "display_name": "Python 3",
   "language": "python",
   "name": "python3"
  },
  "language_info": {
   "codemirror_mode": {
    "name": "ipython",
    "version": 3
   },
   "file_extension": ".py",
   "mimetype": "text/x-python",
   "name": "python",
   "nbconvert_exporter": "python",
   "pygments_lexer": "ipython3",
   "version": "3.7.6"
  }
 },
 "nbformat": 4,
 "nbformat_minor": 2
}
